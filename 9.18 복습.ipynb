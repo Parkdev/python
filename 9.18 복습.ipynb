{
 "cells": [
  {
   "cell_type": "code",
   "execution_count": 31,
   "metadata": {},
   "outputs": [],
   "source": [
    "class Shop:\n",
    "    description = '클래스 속성'\n",
    "    def __init__(self, name, shop_type, address):\n",
    "        self.name = name\n",
    "        self.shop_type = shop_type\n",
    "        self.address = address\n",
    "        \n",
    "    def show_info(self):\n",
    "        print (\n",
    "            f'상점정보({self.name})\\n'\n",
    "            f' 유형: {self.shop_type}\\n'\n",
    "            f' 주소: {self.address}'\n",
    "              )\n",
    "    def change_type(self, new_type):\n",
    "        self.shop_type = new_type\n",
    "    @property\n",
    "    def info(self):\n",
    "        '''\n",
    "        상점정보, 유형,주소를 표시\n",
    "        '''\n",
    "        return (\n",
    "            f'상점정보 ({self.name})\\n'\n",
    "            f' 유형: {self.shop_type}\\n'\n",
    "            f' 주소: {self.address}'\n",
    "        )\n",
    "        \n",
    "\n",
    "class Restaurant(Shop):\n",
    "    @property\n",
    "    def info(self):\n",
    "        return '식당'+ super().info[2:]\n",
    "        \n",
    "subway = Restaurant('서브웨이', '패스트푸드', '서울시 강남구')\n"
   ]
  },
  {
   "cell_type": "code",
   "execution_count": 32,
   "metadata": {},
   "outputs": [
    {
     "data": {
      "text/plain": [
       "'식당정보 (서브웨이)\\n 유형: 패스트푸드\\n 주소: 서울시 강남구'"
      ]
     },
     "execution_count": 32,
     "metadata": {},
     "output_type": "execute_result"
    }
   ],
   "source": [
    "subway.info"
   ]
  },
  {
   "cell_type": "code",
   "execution_count": 15,
   "metadata": {},
   "outputs": [
    {
     "name": "stdout",
     "output_type": "stream",
     "text": [
      "상점(서브웨이)\n",
      " 유형: 슬로우푸드\n",
      " 주소: 서울시 강남구\n"
     ]
    }
   ],
   "source": [
    "subway.change_type('슬로우푸드')\n",
    "subway.show_info()\n",
    "                   "
   ]
  },
  {
   "cell_type": "code",
   "execution_count": null,
   "metadata": {},
   "outputs": [],
   "source": [
    "class Book:\n",
    "    def __init__(self, title, location):\n",
    "        self.title = title\n",
    "        self.location = location\n",
    "    \n",
    "    @property\n",
    "    def is_borrowed(self):\n",
    "        if self.location = 'Library':\n",
    "            print ('도서관에 있음')\n",
    "        else print ('대출됨')\n",
    "            \n",
    "            \n",
    "\n",
    "class User:\n",
    "    def __init__(self, name, book_list):\n",
    "        self.name = name\n",
    "        self.book_list = book_list\n",
    "    \n",
    "    def borrow_book(self):\n",
    "        self.book_list.append(book_list) \n",
    "    \n",
    "    def return_book(self):\n",
    "        self.book_list.remove(book_list)\n",
    "    \n",
    "\n",
    "class Library:\n",
    "    def __init__(self, lib_name, book_list)\n",
    "        self.lib_name=lib_name\n",
    "        self.book_list=book_list\n",
    "        \n",
    "    def add_book(self,add_book):\n",
    "        self.book_list.append(add_book)\n",
    "        \n",
    "    def remove_book(self,remove)\n",
    "    \n",
    "         "
   ]
  }
 ],
 "metadata": {
  "kernelspec": {
   "display_name": "Python 3",
   "language": "python",
   "name": "python3"
  },
  "language_info": {
   "codemirror_mode": {
    "name": "ipython",
    "version": 3
   },
   "file_extension": ".py",
   "mimetype": "text/x-python",
   "name": "python",
   "nbconvert_exporter": "python",
   "pygments_lexer": "ipython3",
   "version": "3.6.6"
  }
 },
 "nbformat": 4,
 "nbformat_minor": 2
}
