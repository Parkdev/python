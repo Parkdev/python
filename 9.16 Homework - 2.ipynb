{
 "cells": [
  {
   "cell_type": "code",
   "execution_count": 1,
   "metadata": {},
   "outputs": [],
   "source": [
    "class Inventory():\n",
    "    \"\"\"\n",
    "    인벤토리\n",
    "    \"\"\"\n",
    "    \n",
    "    def __init__(self, name):\n",
    "        self.name = 'inventory'\n",
    "        self.item_list= []\n",
    "    \n",
    "    def buy_item(self, item):\n",
    "        if item in self.item_list:\n",
    "            a = input('아이템이 있습니다. 구매하시겠습니까? (y/n)')\n",
    "            if a == 'y':\n",
    "                self.item_list.append(item)\n",
    "                print(f'{item.item_name}을 중복 구매하셨습니다.')\n",
    "            else :\n",
    "                    print('구매를 취소하셨습니다.')\n",
    "        else :\n",
    "                self.item_list.append(item)\n",
    "                print('아이템을 구매하셨습니다.')\n",
    "    def sell_item(self, item):\n",
    "        if item in self.item_list:\n",
    "            self.item_list.remove(item)\n",
    "            print(f'{item.item_name}을 쓰래기통에 버렸습니다.')\n",
    "        else :\n",
    "            print('없는 아이템 입니다.')\n",
    "            \n",
    "    @property\n",
    "    def info(self):\n",
    "        print(\n",
    "               '상태\\n'\n",
    "              f'소지중인 장비 : {[i.item_name for i in self.item_list]}'\n",
    "             )\n",
    "\n",
    "class items():\n",
    "    ITEM_LIST = ['sword','ammor']\n",
    "    \"\"\"\n",
    "    장비\n",
    "    \"\"\"\n",
    "    def __init__(self,item_name):\n",
    "        if item_name in self.ITEM_LIST:\n",
    "            self.item_name = item_name\n",
    "        else :\n",
    "            print(f'{item_name}은(는) 존재하는 아이템이 아닙니다.')\n",
    "            \n",
    "        self.location = None\n",
    "        is_equiped_var =None\n",
    "        \n",
    "    @property\n",
    "    def is_equiped(self) :\n",
    "        \n",
    "        if self.is_equiped_var == False:\n",
    "            print('이미 장착중입니다.')\n",
    "        elif self.is_equiped_var == True:\n",
    "            print('장착가능합니다.')\n",
    "        else : \n",
    "            print('아이템이 없음')\n",
    "    @property\n",
    "    def info(self):\n",
    "        print(f'아이템 이름 : {self.item_name}\\n')\n",
    "\n",
    "class Equipment():\n",
    "    \"\"\"\n",
    "    장비중인 아이템\n",
    "    \"\"\"\n",
    "    def __init__(self, name):\n",
    "        self.name = name\n",
    "        self.equiped_item = []\n",
    "        \n",
    "    def equip_item(self,inventory, item):\n",
    "        if item in self.equiped_item:\n",
    "            print ('이미 장착중인 아이템입니다.')\n",
    "        else:\n",
    "            inventory.item_list.remove(item)\n",
    "            self.equiped_item.append(item)\n",
    "            items.location = self.name\n",
    "            items.is_equiped_var = False\n",
    "            print (f'{self.name}이 {item.item_name}을/를 장착했습니다.')\n",
    "            \n",
    "    def unequip_item(self, inventory, item):\n",
    "        if item in self.equiped_item:\n",
    "            self.equiped_item.remove(item)\n",
    "            inventory.item_list.append(item)\n",
    "            items.location = inventory.name\n",
    "            items.is_equiped_var = True\n",
    "            print (f'{self.name}이 {item.item_name}을/를 가방에 넣었습니다.')\n",
    "        else:\n",
    "            print ('아이템이 없습니다.')\n",
    "    \n",
    "    @property\n",
    "    def info(self):\n",
    "        print (f'ID: {self.name}\\n장착아이템 : {[i.item_name for i in self.equiped_item]}')\n",
    "            "
   ]
  },
  {
   "cell_type": "code",
   "execution_count": 2,
   "metadata": {},
   "outputs": [
    {
     "name": "stdout",
     "output_type": "stream",
     "text": [
      "sheld은(는) 존재하는 아이템이 아닙니다.\n"
     ]
    }
   ],
   "source": [
    "inven=Inventory('가방')\n",
    "item01=items('sword')\n",
    "item02=items('ammor')\n",
    "item03=items('sheld')"
   ]
  },
  {
   "cell_type": "code",
   "execution_count": 3,
   "metadata": {},
   "outputs": [
    {
     "name": "stdout",
     "output_type": "stream",
     "text": [
      "아이템을 구매하셨습니다.\n",
      "아이템을 구매하셨습니다.\n"
     ]
    }
   ],
   "source": [
    "inven.buy_item(item01)\n",
    "inven.buy_item(item02)"
   ]
  },
  {
   "cell_type": "code",
   "execution_count": 4,
   "metadata": {},
   "outputs": [
    {
     "name": "stdout",
     "output_type": "stream",
     "text": [
      "상태\n",
      "소지중인 장비 : ['sword', 'ammor']\n"
     ]
    }
   ],
   "source": [
    "inven.info"
   ]
  },
  {
   "cell_type": "code",
   "execution_count": 5,
   "metadata": {},
   "outputs": [],
   "source": [
    "#inven.sell_item(item01)\n",
    "#inven.sell_item(item02)"
   ]
  },
  {
   "cell_type": "code",
   "execution_count": 6,
   "metadata": {},
   "outputs": [],
   "source": [
    "man = Equipment('devpark')"
   ]
  },
  {
   "cell_type": "code",
   "execution_count": 7,
   "metadata": {},
   "outputs": [
    {
     "name": "stdout",
     "output_type": "stream",
     "text": [
      "ID: devpark\n",
      "장착아이템 : []\n"
     ]
    }
   ],
   "source": [
    "man.info"
   ]
  },
  {
   "cell_type": "code",
   "execution_count": 8,
   "metadata": {},
   "outputs": [
    {
     "name": "stdout",
     "output_type": "stream",
     "text": [
      "devpark이 sword을/를 장착했습니다.\n"
     ]
    }
   ],
   "source": [
    "man.equip_item(inven, item01)"
   ]
  },
  {
   "cell_type": "code",
   "execution_count": 9,
   "metadata": {
    "scrolled": true
   },
   "outputs": [
    {
     "name": "stdout",
     "output_type": "stream",
     "text": [
      "이미 장착중입니다.\n"
     ]
    }
   ],
   "source": [
    "item01.is_equiped"
   ]
  },
  {
   "cell_type": "code",
   "execution_count": 12,
   "metadata": {},
   "outputs": [
    {
     "name": "stdout",
     "output_type": "stream",
     "text": [
      "ID: devpark\n",
      "장착아이템 : []\n"
     ]
    }
   ],
   "source": [
    "man.info"
   ]
  },
  {
   "cell_type": "code",
   "execution_count": 10,
   "metadata": {},
   "outputs": [
    {
     "name": "stdout",
     "output_type": "stream",
     "text": [
      "devpark이 sword을/를 가방에 넣었습니다.\n"
     ]
    }
   ],
   "source": [
    "man.unequip_item(inven, item01)"
   ]
  },
  {
   "cell_type": "code",
   "execution_count": 11,
   "metadata": {},
   "outputs": [
    {
     "name": "stdout",
     "output_type": "stream",
     "text": [
      "ID: devpark\n",
      "장착아이템 : []\n"
     ]
    }
   ],
   "source": [
    "man.info"
   ]
  },
  {
   "cell_type": "code",
   "execution_count": null,
   "metadata": {},
   "outputs": [],
   "source": []
  }
 ],
 "metadata": {
  "kernelspec": {
   "display_name": "Python 3",
   "language": "python",
   "name": "python3"
  },
  "language_info": {
   "codemirror_mode": {
    "name": "ipython",
    "version": 3
   },
   "file_extension": ".py",
   "mimetype": "text/x-python",
   "name": "python",
   "nbconvert_exporter": "python",
   "pygments_lexer": "ipython3",
   "version": "3.6.6"
  }
 },
 "nbformat": 4,
 "nbformat_minor": 2
}
