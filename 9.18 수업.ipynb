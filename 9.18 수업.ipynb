{
 "cells": [
  {
   "cell_type": "code",
   "execution_count": 4,
   "metadata": {},
   "outputs": [],
   "source": [
    "class shop:\n",
    "    pass"
   ]
  },
  {
   "cell_type": "code",
   "execution_count": 5,
   "metadata": {},
   "outputs": [
    {
     "ename": "NameError",
     "evalue": "name 'Shop' is not defined",
     "output_type": "error",
     "traceback": [
      "\u001b[0;31m---------------------------------------------------------------------------\u001b[0m",
      "\u001b[0;31mNameError\u001b[0m                                 Traceback (most recent call last)",
      "\u001b[0;32m<ipython-input-5-0ce83fe4221b>\u001b[0m in \u001b[0;36m<module>\u001b[0;34m()\u001b[0m\n\u001b[0;32m----> 1\u001b[0;31m \u001b[0mshop1\u001b[0m \u001b[0;34m=\u001b[0m \u001b[0mShop\u001b[0m\u001b[0;34m(\u001b[0m\u001b[0;34m)\u001b[0m\u001b[0;34m\u001b[0m\u001b[0m\n\u001b[0m",
      "\u001b[0;31mNameError\u001b[0m: name 'Shop' is not defined"
     ]
    }
   ],
   "source": [
    "shop1 = Shop()"
   ]
  },
  {
   "cell_type": "code",
   "execution_count": 6,
   "metadata": {},
   "outputs": [],
   "source": [
    "shop1 = shop()"
   ]
  },
  {
   "cell_type": "code",
   "execution_count": 7,
   "metadata": {},
   "outputs": [
    {
     "name": "stdout",
     "output_type": "stream",
     "text": [
      "<class '__main__.shop'>\n"
     ]
    }
   ],
   "source": [
    "print(type(shop1))"
   ]
  },
  {
   "cell_type": "code",
   "execution_count": 2,
   "metadata": {},
   "outputs": [],
   "source": [
    "class Shop:\n",
    "    description = 'Python Shop Class'\n",
    "    count = 0\n",
    "    shop_list = []\n",
    "    \n",
    "    #인스턴트 메서드\n",
    "    # 첫 번째 매개변수로 항상 인스턴스 자신이 전달된다.\n",
    "    # 인스턴스가 전달되는 첫 번재 매개변수의 이름은 관용적으로 \"self'를 사용\n",
    "    def __init__(self, name):\n",
    "        self.name= name\n",
    "        Shop.count += 1\n",
    "        Shop.shop_list.append(self)\n",
    "        #self.__class__.chop_list.append(self)\n",
    "    \n",
    "    def __repr__(self):\n",
    "        return f'상점({self.name})'\n",
    "    def show_info(self):\n",
    "        return f'상점정보 ({self.name})'\n",
    "    def change_type (self):\n",
    "        return f'{self.name}({name})'\n",
    "    \n",
    "    #클레스 메서드\n",
    "    # 첫 번재 매개변수로 항상 클레스 정의 자체가 전달된다.\n",
    "    # 클레스 정의가 전달되는 첫번째 매개변수의 이름은 가ㅗㄴ용적으로 'cls'를 사용\n",
    "    @classmethod\n",
    "    def get_shop_count(cls):\n",
    "        return cls.count\n",
    "    \n",
    "    @classmethod\n",
    "    def get_shop_list(cls):\n",
    "        return cls.shop_list"
   ]
  },
  {
   "cell_type": "code",
   "execution_count": 3,
   "metadata": {},
   "outputs": [],
   "source": [
    "#클래스 안의 init은 생성자 매서드이다. 생성자 매서드는 인스턴스를 불러온다.\n",
    "#클래스명을 호출 () 하는 것은 클래스 생성자 메서드를 실행한다는 의미.\n",
    "#클래스 생성자 메서드는 매직 메서드'__init__' 에 정의된다.\n",
    "#클래스 생성자의 호출 결과는 해당 클래스의 인스턴스\n",
    "#인스턴스는 특정 클래스형(타입)의 객체를 말함\n",
    "\n",
    "subway = Shop('서브웨이')"
   ]
  },
  {
   "cell_type": "code",
   "execution_count": 7,
   "metadata": {},
   "outputs": [
    {
     "data": {
      "text/plain": [
       "'상점(서브웨이)'"
      ]
     },
     "execution_count": 7,
     "metadata": {},
     "output_type": "execute_result"
    }
   ],
   "source": [
    "subway = Shop('서브웨이')\n",
    "subway.__repr__()"
   ]
  },
  {
   "cell_type": "code",
   "execution_count": 52,
   "metadata": {},
   "outputs": [],
   "source": [
    "lottera = Shop('롯데리아')"
   ]
  },
  {
   "cell_type": "code",
   "execution_count": 53,
   "metadata": {},
   "outputs": [
    {
     "data": {
      "text/plain": [
       "2"
      ]
     },
     "execution_count": 53,
     "metadata": {},
     "output_type": "execute_result"
    }
   ],
   "source": [
    "Shop.get_shop_count()"
   ]
  },
  {
   "cell_type": "code",
   "execution_count": 54,
   "metadata": {},
   "outputs": [
    {
     "data": {
      "text/plain": [
       "2"
      ]
     },
     "execution_count": 54,
     "metadata": {},
     "output_type": "execute_result"
    }
   ],
   "source": [
    "subway.get_shop_count()"
   ]
  },
  {
   "cell_type": "code",
   "execution_count": 147,
   "metadata": {},
   "outputs": [],
   "source": [
    "class Shop:\n",
    "    SHOP_TYPE_LIST = ['샌드위치','패스트푸드']\n",
    "    \n",
    "    description = 'Python Shop Class'\n",
    "    count = 0\n",
    "    shop_list = []\n",
    "    \n",
    "    #인스턴트 메서드\n",
    "    # 첫 번째 매개변수로 항상 인스턴스 자신이 전달된다.\n",
    "    # 인스턴스가 전달되는 첫 번재 매개변수의 이름은 관용적으로 \"self'를 사용\n",
    "    def __init__(self, name,shop_type,address):\n",
    "        self.name= name\n",
    "        #self_shop_type은 인스턴트의 속성명\n",
    "        #우측의 shop_type은 초기화 메서드의 매개변수명\n",
    "        self.__shop_type = shop_type\n",
    "        \n",
    "        self.address = address\n",
    "        Shop.count += 1\n",
    "        Shop.shop_list.append(self)\n",
    "        #self.__class__.chop_list.append(self)\n",
    "    \n",
    "    def __repr__(self):\n",
    "        return f'상점({self.name})'\n",
    "    def show_info(self):\n",
    "        print(\n",
    "            f'상점정보 ({self.name})\\n'\n",
    "            f' 유형: {self.__shop_type}\\n'\n",
    "            f' 주소: {self.address}'\n",
    "        )\n",
    "    def change_type (self,new_shop_type):\n",
    "            self.shop_type = new_shop_type\n",
    "    #특정 PRIVATE 속성에 대해 GETTER함수만 존재할 경우\n",
    "    #해당 속성이 '읽기전용'이 됨\n",
    "    def get_shop_type(self):\n",
    "        return self.__shop_type\n",
    "    \n",
    "    #setter함수|\n",
    "    def set_shop_type(self, new_shop_type):\n",
    "        if new_shop_type in self.SHOP_TYPE_LIST:\n",
    "            self.__shop_type = new_shop_type\n",
    "        else:\n",
    "            print('상점 유형은 {}중 하나여야합니다.'.format(','.join(self.SHOP_TYPE_LIST),))\n",
    "            \n",
    "    \n",
    "    #클레스 메서드\n",
    "    # 첫 번재 매개변수로 항상 클레스 정의 자체가 전달된다.\n",
    "    # 클레스 정의가 전달되는 첫번째 매개변수의 이름은 가ㅗㄴ용적으로 'cls'를 사용\n",
    "    @classmethod\n",
    "    def get_shop_count(cls):\n",
    "        return cls.count\n",
    "    \n",
    "    @classmethod\n",
    "    def get_shop_list(cls):\n",
    "        return cls.shop_list"
   ]
  },
  {
   "cell_type": "code",
   "execution_count": 148,
   "metadata": {},
   "outputs": [],
   "source": [
    "subway = Shop('서브웨이','샌드위치가게','성수역 옆에')"
   ]
  },
  {
   "cell_type": "code",
   "execution_count": 149,
   "metadata": {},
   "outputs": [
    {
     "name": "stdout",
     "output_type": "stream",
     "text": [
      "상점정보 (서브웨이)\n",
      " 유형: 샌드위치가게\n",
      " 주소: 성수역 옆에\n"
     ]
    }
   ],
   "source": [
    "subway.show_info()"
   ]
  },
  {
   "cell_type": "code",
   "execution_count": 150,
   "metadata": {},
   "outputs": [],
   "source": [
    "#subway.__shop_type"
   ]
  },
  {
   "cell_type": "code",
   "execution_count": 151,
   "metadata": {},
   "outputs": [
    {
     "name": "stdout",
     "output_type": "stream",
     "text": [
      "상점정보 (서브웨이)\n",
      " 유형: 샌드위치가게\n",
      " 주소: 성수역 옆에\n"
     ]
    }
   ],
   "source": [
    "subway.change_type('패스트푸드')\n",
    "subway.show_info()"
   ]
  },
  {
   "cell_type": "code",
   "execution_count": 152,
   "metadata": {},
   "outputs": [],
   "source": [
    "# dir(subway)"
   ]
  },
  {
   "cell_type": "code",
   "execution_count": 153,
   "metadata": {},
   "outputs": [
    {
     "data": {
      "text/plain": [
       "'샌드위치가게'"
      ]
     },
     "execution_count": 153,
     "metadata": {},
     "output_type": "execute_result"
    }
   ],
   "source": [
    "subway._Shop__shop_type"
   ]
  },
  {
   "cell_type": "code",
   "execution_count": 154,
   "metadata": {},
   "outputs": [
    {
     "data": {
      "text/plain": [
       "'샌드위치'"
      ]
     },
     "execution_count": 154,
     "metadata": {},
     "output_type": "execute_result"
    }
   ],
   "source": [
    "subway= Shop('서브웨이', '샌드위치', '성수역')\n",
    "subway.get_shop_type()"
   ]
  },
  {
   "cell_type": "code",
   "execution_count": 155,
   "metadata": {},
   "outputs": [
    {
     "name": "stdout",
     "output_type": "stream",
     "text": [
      "상점 유형은 샌드위치,패스트푸드중 하나여야합니다.\n"
     ]
    },
    {
     "data": {
      "text/plain": [
       "'샌드위치'"
      ]
     },
     "execution_count": 155,
     "metadata": {},
     "output_type": "execute_result"
    }
   ],
   "source": [
    "subway.set_shop_type('PC방')\n",
    "subway.get_shop_type()"
   ]
  },
  {
   "cell_type": "code",
   "execution_count": 226,
   "metadata": {},
   "outputs": [],
   "source": [
    "class Shop:\n",
    "    SHOP_TYPE_LIST = ['샌드위치','패스트푸드']\n",
    "    \n",
    "    description = 'Python Shop Class'\n",
    "    count = 0\n",
    "    shop_list = []\n",
    "    \n",
    "    #인스턴트 메서드\n",
    "    # 첫 번째 매개변수로 항상 인스턴스 자신이 전달된다.\n",
    "    # 인스턴스가 전달되는 첫 번재 매개변수의 이름은 관용적으로 \"self'를 사용\n",
    "    def __init__(self, name,shop_type,address):\n",
    "        self.name= name\n",
    "        #self_shop_type은 인스턴트의 속성명\n",
    "        #우측의 shop_type은 초기화 메서드의 매개변수명\n",
    "        self._shop_type = shop_type\n",
    "        \n",
    "        self.address = address\n",
    "        Shop.count += 1\n",
    "        Shop.shop_list.append(self)\n",
    "        #self.__class__.chop_list.append(self)\n",
    "    \n",
    "    def __repr__(self):\n",
    "        return f'상점({self.name})'\n",
    "    def show_info(self):\n",
    "        print(self.info)\n",
    "        \n",
    "     #info 프로퍼티를 작성 (읽기전용)\n",
    "    #내용은 show_info() 함수가 보여주던 텍스트\n",
    "    @property\n",
    "    def info(self):\n",
    "        '''\n",
    "        상점정보, 유형,주소를 표시\n",
    "        '''\n",
    "        return (\n",
    "            f'상점정보 ({self.name})\\n'\n",
    "            f' 유형: {self._shop_type}\\n'\n",
    "            f' 주소: {self.address}'\n",
    "        )\n",
    "    \n",
    "    \n",
    "    def change_type (self,new_shop_type):\n",
    "            self.shop_type = new_shop_type\n",
    "    #특정 PRIVATE 속성에 대해 GETTER함수만 존재할 경우\n",
    "    #해당 속성이 '읽기전용'이 됨\n",
    "    def get_shop_type(self):\n",
    "        return self._shop_type\n",
    "    \n",
    "    #setter함수|\n",
    "    def set_shop_type(self, new_shop_type):\n",
    "        if new_shop_type in self.SHOP_TYPE_LIST:\n",
    "            self._shop_type = new_shop_type\n",
    "        else:\n",
    "            print('상점 유형은 {}중 하나여야합니다.'.format(','.join(self.SHOP_TYPE_LIST),))\n",
    "            \n",
    "    #getter역할을 하는 property decorator\n",
    "    @property #특정함수의 결과를 바로 내보냄\n",
    "    def shop_type(self):\n",
    "        return self._shop_type\n",
    "    \n",
    "    #setter역할을 하는 property decorator\n",
    "    #<getter property method name>.setter\n",
    "    @shop_type.setter\n",
    "    def shop_type(self, new_shop_type):\n",
    "        if new_shop_type in self.SHOP_TYPE_LIST:\n",
    "            self._shop_type = new_shop_type\n",
    "        else:\n",
    "            print('상점 유형은 {}중 하나여야합니다.'.format(','.join(self.SHOP_TYPE_LIST),))\n",
    "    \n",
    "   \n",
    "    \n",
    "    #show-info() 함수가\n",
    "    #인스턴트의 'info'프로퍼티의 값을 출력하도록 변경\n",
    "class Restaurant(Shop):\n",
    "    def new_method(self):\n",
    "        pass\n",
    "#         return '식당{}'.format(self.info[2:],)\n",
    "    @property\n",
    "    def info(self):\n",
    "        return '식당' + super().info[2:]\n",
    "    \n",
    "# super은 상속받은 부모 인스턴스가 온다. 재정의 가능"
   ]
  },
  {
   "cell_type": "code",
   "execution_count": 212,
   "metadata": {},
   "outputs": [
    {
     "name": "stdout",
     "output_type": "stream",
     "text": [
      "상점정보 (서브웨이)\n",
      " 유형: 샌드위치\n",
      " 주소: 성수역\n"
     ]
    }
   ],
   "source": [
    "subway = Shop('서브웨이', '샌드위치', '성수역')\n",
    "subway.show_info()"
   ]
  },
  {
   "cell_type": "code",
   "execution_count": 172,
   "metadata": {},
   "outputs": [
    {
     "name": "stdout",
     "output_type": "stream",
     "text": [
      "상점 유형은 샌드위치,패스트푸드중 하나여야합니다.\n",
      "상점정보 (서브웨이)\n",
      " 유형: 샌드위치\n",
      " 주소: 성수역\n"
     ]
    }
   ],
   "source": [
    "subway.shop_type= 'PC방'\n",
    "subway.show_info()"
   ]
  },
  {
   "cell_type": "code",
   "execution_count": 165,
   "metadata": {},
   "outputs": [
    {
     "data": {
      "text/plain": [
       "'패스트푸드'"
      ]
     },
     "execution_count": 165,
     "metadata": {},
     "output_type": "execute_result"
    }
   ],
   "source": [
    "subway.get_shop_type()"
   ]
  },
  {
   "cell_type": "code",
   "execution_count": 193,
   "metadata": {},
   "outputs": [],
   "source": [
    "class Restaurant(Shop):\n",
    "#     def __init__(self, name,shop_type,address):\n",
    "#         self.name= name\n",
    "#         self.__shop_type = shop_type\n",
    "#         self.address = address\n",
    "        \n",
    "    def show_info(self):\n",
    "        print(\n",
    "            f'식당정보 ({self.name})\\n'\n",
    "            f' 유형: {self._shop_type}\\n' #_Shop__shop_type쓰면 재정의안해도 가능\n",
    "            f' 주소: {self.address}'\n",
    "        )"
   ]
  },
  {
   "cell_type": "code",
   "execution_count": 217,
   "metadata": {},
   "outputs": [
    {
     "name": "stdout",
     "output_type": "stream",
     "text": [
      "상점정보 (서브웨이)\n",
      " 유형: 식당\n",
      " 주소: 성수역\n"
     ]
    }
   ],
   "source": [
    "subway = Restaurant('서브웨이','식당','성수역')\n",
    "subway.show_info()"
   ]
  },
  {
   "cell_type": "code",
   "execution_count": 218,
   "metadata": {},
   "outputs": [
    {
     "data": {
      "text/plain": [
       "'식당정보 (서브웨이)\\n 유형: 식당\\n 주소: 성수역'"
      ]
     },
     "execution_count": 218,
     "metadata": {},
     "output_type": "execute_result"
    }
   ],
   "source": [
    "subway.new_method()"
   ]
  },
  {
   "cell_type": "code",
   "execution_count": 229,
   "metadata": {},
   "outputs": [],
   "source": [
    "#Restaurant클레스의 초기화메서드 (__init__)을 재정의\n",
    "# 초기화 메서드의 매개변수 목록에 shop_type을 받지않고, rating을 추가로 받음\n",
    "# 부모클래스의 초기화 메서드를 super().__init__()을 사용해 호출하며, 호출시 아래 값들을 인자(arguments)로 전달\n",
    "#   name에 입력받은 매개변수 name의 값\n",
    "#   shop_type에 고정적으로 '식당'\n",
    "#   address 에 입력받은 매개변수 address값\n",
    "# 추가적으로 인스턴스의 'rating'속성에 매개변수 'rating' 값을 할당\n",
    "\n",
    "class Restaurant(Shop):\n",
    "    def `__init__(self, name,rating,address):\n",
    "        self.name= name\n",
    "        self.rating = rating\n",
    "        self.address = address\n",
    "        \n",
    "    def show_info(self):\n",
    "        print(\n",
    "            f'식당정보 ({self.name})\\n'\n",
    "            f' 유형: 식당\\n'\n",
    "            f' rating: {self.rating}\\n' #_Shop__shop_type쓰면 재정의안해도 가능\n",
    "            f' 주소: {self.address}'\n",
    "        )"
   ]
  },
  {
   "cell_type": "code",
   "execution_count": 230,
   "metadata": {},
   "outputs": [],
   "source": [
    "subway = Restaurant('서브웨이','10점','성수근처')"
   ]
  },
  {
   "cell_type": "code",
   "execution_count": 233,
   "metadata": {},
   "outputs": [
    {
     "name": "stdout",
     "output_type": "stream",
     "text": [
      "식당정보 (서브웨이)\n",
      " 유형: 식당\n",
      " rating: 10점\n",
      " 주소: 성수근처\n"
     ]
    }
   ],
   "source": [
    "subway.show_info()"
   ]
  },
  {
   "cell_type": "code",
   "execution_count": 236,
   "metadata": {},
   "outputs": [],
   "source": [
    "class Restaurant(Shop):\n",
    "    def __init__(self, name,address,rating):\n",
    "        super().__init__(name=name, shop_type='식당', address=address)\n",
    "        self.rating = rating\n",
    "    @property    \n",
    "    def info(self):\n",
    "        return '식당' + super().info[2:] + '\\n 평점: {}'.format(self.rating)"
   ]
  },
  {
   "cell_type": "code",
   "execution_count": 237,
   "metadata": {},
   "outputs": [],
   "source": [
    "subway1 = Shop('서브웨이', '식당', '성수역')\n",
    "subway2 = Restaurant('서브웨이', '성수역', 10)"
   ]
  },
  {
   "cell_type": "code",
   "execution_count": 238,
   "metadata": {},
   "outputs": [
    {
     "name": "stdout",
     "output_type": "stream",
     "text": [
      "식당정보 (서브웨이)\n",
      " 유형: 식당\n",
      " 주소: 성수역\n",
      " 평점: 10\n"
     ]
    }
   ],
   "source": [
    "subway2.show_info()"
   ]
  },
  {
   "cell_type": "code",
   "execution_count": 246,
   "metadata": {},
   "outputs": [],
   "source": [
    "shop_list = [subway1, subway2]"
   ]
  },
  {
   "cell_type": "code",
   "execution_count": 247,
   "metadata": {},
   "outputs": [
    {
     "name": "stdout",
     "output_type": "stream",
     "text": [
      "상점(서브웨이)\n",
      "상점(서브웨이)\n"
     ]
    }
   ],
   "source": [
    "for shop in shop_list:\n",
    "    print(shop)"
   ]
  },
  {
   "cell_type": "code",
   "execution_count": null,
   "metadata": {},
   "outputs": [],
   "source": [
    "도서 관리 프로그램\n",
    "    Library, Book, User클래스 구현\n",
    "        프로그램 시작시 도서 5권 정도를 가진 상태로 시작\n",
    "\n",
    "    Library\n",
    "        attrs\n",
    "            name: 도서관명 (str)\n",
    "            book_list: 도서 목록 (Book인스턴스의 목록) (list)\n",
    "        methods\n",
    "            add_book (책 제목을 받아서 새로운 Book을 생성, self.book_list에 추가)\n",
    "            remove_book (책 제목을 받아서 해당 제목의 Book을 self.book_list에서 삭제)\n",
    "        property\n",
    "            info: 가지고 있는 도서 목록을 보기좋은 텍스트로 리턴 (빌려간 도서는 출력 안해도 됨)\n",
    "            -> print(library1.info)\n",
    "\n",
    "    Book\n",
    "        attrs\n",
    "            title: 제목\n",
    "            location: 현재 자신이 어떤 Library 또는 User에게 있는지를 출력\n",
    "        property\n",
    "            is_borrowed: 대출되었는지 (location이 User인지 Library인지 확인)\n",
    "\n",
    "    User\n",
    "        attrs\n",
    "            name: 이름\n",
    "            book_list: 가지고 있는 도서 목록\n",
    "        methods\n",
    "            borrow_book(library, book_name): library로부터 book을 가져옴\n",
    "            return_book(library, book_name): library에 book을 다시 건네줌"
   ]
  }
 ],
 "metadata": {
  "kernelspec": {
   "display_name": "Python 3",
   "language": "python",
   "name": "python3"
  },
  "language_info": {
   "codemirror_mode": {
    "name": "ipython",
    "version": 3
   },
   "file_extension": ".py",
   "mimetype": "text/x-python",
   "name": "python",
   "nbconvert_exporter": "python",
   "pygments_lexer": "ipython3",
   "version": "3.6.6"
  }
 },
 "nbformat": 4,
 "nbformat_minor": 2
}
