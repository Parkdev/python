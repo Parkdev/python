{
 "cells": [
  {
   "cell_type": "code",
   "execution_count": 31,
   "metadata": {},
   "outputs": [],
   "source": [
    "class Library():\n",
    "    \"\"\"\n",
    "    도서관\n",
    "    \"\"\"\n",
    "    def __init__(self, name):\n",
    "        self.name = name\n",
    "        self.book_list = []\n",
    "    \n",
    "    def add_book(self, book):\n",
    "        if book in self.book_list:\n",
    "            print('이미 소장중입니다.')\n",
    "            \n",
    "        else : \n",
    "            self.book_list.append(book)\n",
    "            book.is_borroweds = True\n",
    "            book.location = self.name\n",
    "            print(f'{book.title} 이 도서관에 추가되었습니다.')\n",
    "    \n",
    "    def remove_book(self, book):\n",
    "        if book in self.book_list:\n",
    "            self.book_list.remove(book)\n",
    "            book.is_borroweds = None\n",
    "            book.location = None\n",
    "            print(f'{book.title} 이 도서관에서 삭제되었습니다.')\n",
    "        else: \n",
    "            print('없는 책입니다.')\n",
    "            \n",
    "    @property\n",
    "    def info(self):\n",
    "        print(f'도서관: {self.name}\\n 장서목록: {[i.title for i in self.book_list]}')\n",
    "\n",
    "class Book():\n",
    "    \"\"\"\n",
    "    책 & 도서총판\n",
    "    \"\"\"\n",
    "    def __init__(self, title):\n",
    "        self.title = title\n",
    "        self.location = None\n",
    "        is_borroweds = None\n",
    "    \n",
    "    @property\n",
    "    def is_borrowed(self):\n",
    "        if self.is_borroweds == False:\n",
    "            print( '대여중')\n",
    "        elif self.is_borroweds == True:\n",
    "            print ('대여가능')\n",
    "        else :\n",
    "            print ('책이 없음')\n",
    "\n",
    "    @property\n",
    "    def info(self):\n",
    "        print(f'제목 : {self.title}\\n소재지: {self.location}\\n대여여부: {self.is_borrowed}')\n",
    "    \n",
    "class User():\n",
    "    \"\"\"\n",
    "    도서관 이용자\n",
    "    \"\"\"\n",
    "    def __init__(self, name):\n",
    "        self.name = name\n",
    "        self.book_list = []\n",
    "        \n",
    "    def borrow_book(self, library, book):\n",
    "        if book in self.book_list:\n",
    "            print ('이미 소장중인 도서입니다.')\n",
    "        else:\n",
    "            library.book_list.remove(book)\n",
    "            self.book_list.append(book)\n",
    "            book.location = self.name\n",
    "            book.is_borroweds = False\n",
    "            print (f'{library.name} 에서 {book.title}을(를) 빌렸습니다. {[i.title for i in self.book_list]}')\n",
    "    \n",
    "    def return_book(self, library, book):\n",
    "        if book in self.book_list:\n",
    "            self.book_list.remove(book)\n",
    "            library.book_list.append(book)\n",
    "            book.location = library.name\n",
    "            book.is_borroweds = True\n",
    "            print (f'{self.name}이 {book.location}에 {book.title}을 반납했습니다. {[i.title for i in self.book_list]}')\n",
    "        else:\n",
    "            print('해당하는 도서가 없습니다.')\n",
    "    \n",
    "    @property\n",
    "    def info(self):\n",
    "        print (f'이름: {self.name}\\n소장목록: {[i.title for i in self.book_list]}')"
   ]
  },
  {
   "cell_type": "code",
   "execution_count": 32,
   "metadata": {},
   "outputs": [
    {
     "name": "stdout",
     "output_type": "stream",
     "text": [
      "a 이 도서관에 추가되었습니다.\n",
      "b 이 도서관에 추가되었습니다.\n",
      "c 이 도서관에 추가되었습니다.\n",
      "d 이 도서관에 추가되었습니다.\n",
      "e 이 도서관에 추가되었습니다.\n"
     ]
    }
   ],
   "source": [
    "b001 = Book('a')\n",
    "b002 = Book('b')\n",
    "b003 = Book('c')\n",
    "b004 = Book('d')\n",
    "b005 = Book('e')\n",
    "book_list = [b001,b002,b003,b004,b005]\n",
    "li = Library('도서관')\n",
    "for i in book_list:\n",
    "    li.add_book(i)"
   ]
  },
  {
   "cell_type": "code",
   "execution_count": 33,
   "metadata": {},
   "outputs": [
    {
     "name": "stdout",
     "output_type": "stream",
     "text": [
      "도서관: 도서관\n",
      " 장서목록: ['a', 'b', 'c', 'd', 'e']\n"
     ]
    }
   ],
   "source": [
    "li.info"
   ]
  },
  {
   "cell_type": "code",
   "execution_count": 37,
   "metadata": {},
   "outputs": [],
   "source": [
    "p1 = User('m1')"
   ]
  },
  {
   "cell_type": "code",
   "execution_count": 40,
   "metadata": {},
   "outputs": [
    {
     "name": "stdout",
     "output_type": "stream",
     "text": [
      "도서관 에서 c을(를) 빌렸습니다. ['c']\n"
     ]
    }
   ],
   "source": [
    "p1.borrow_book(li,b003)"
   ]
  },
  {
   "cell_type": "code",
   "execution_count": 43,
   "metadata": {},
   "outputs": [
    {
     "name": "stdout",
     "output_type": "stream",
     "text": [
      "m1이 도서관에 c을 반납했습니다. []\n"
     ]
    }
   ],
   "source": [
    "p1.return_book(li,b003)"
   ]
  },
  {
   "cell_type": "code",
   "execution_count": 44,
   "metadata": {},
   "outputs": [
    {
     "name": "stdout",
     "output_type": "stream",
     "text": [
      "도서관: 도서관\n",
      " 장서목록: ['a', 'b', 'd', 'e', 'c']\n"
     ]
    }
   ],
   "source": [
    "li.info"
   ]
  },
  {
   "cell_type": "code",
   "execution_count": 45,
   "metadata": {},
   "outputs": [
    {
     "name": "stdout",
     "output_type": "stream",
     "text": [
      "이름: m1\n",
      "소장목록: []\n"
     ]
    }
   ],
   "source": [
    "p1.info"
   ]
  },
  {
   "cell_type": "code",
   "execution_count": 8,
   "metadata": {},
   "outputs": [
    {
     "name": "stdout",
     "output_type": "stream",
     "text": [
      "대여가능\n",
      "제목 : 미움받을 용기\n",
      "소재지: 관산도서관\n",
      "대여여부: None\n"
     ]
    }
   ],
   "source": [
    "b001.info"
   ]
  },
  {
   "cell_type": "code",
   "execution_count": 12,
   "metadata": {},
   "outputs": [],
   "source": [
    "user= User('man')"
   ]
  },
  {
   "cell_type": "code",
   "execution_count": 13,
   "metadata": {},
   "outputs": [
    {
     "name": "stdout",
     "output_type": "stream",
     "text": [
      "관산도서관 에서 미움받을 용기을(를) 빌렸습니다. ['미움받을 용기']\n"
     ]
    }
   ],
   "source": [
    "user.borrow_book(li,b001)"
   ]
  },
  {
   "cell_type": "code",
   "execution_count": 14,
   "metadata": {},
   "outputs": [
    {
     "data": {
      "text/plain": [
       "False"
      ]
     },
     "execution_count": 14,
     "metadata": {},
     "output_type": "execute_result"
    }
   ],
   "source": [
    "b001.is_borroweds"
   ]
  },
  {
   "cell_type": "code",
   "execution_count": null,
   "metadata": {},
   "outputs": [],
   "source": []
  }
 ],
 "metadata": {
  "kernelspec": {
   "display_name": "Python 3",
   "language": "python",
   "name": "python3"
  },
  "language_info": {
   "codemirror_mode": {
    "name": "ipython",
    "version": 3
   },
   "file_extension": ".py",
   "mimetype": "text/x-python",
   "name": "python",
   "nbconvert_exporter": "python",
   "pygments_lexer": "ipython3",
   "version": "3.6.6"
  }
 },
 "nbformat": 4,
 "nbformat_minor": 2
}
