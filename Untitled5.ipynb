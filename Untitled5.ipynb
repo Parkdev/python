{
 "cells": [
  {
   "cell_type": "code",
   "execution_count": 32,
   "metadata": {},
   "outputs": [],
   "source": [
    "sample = 'ABCDEFGHIJKLMN'\n",
    "#1. string(문자열)을 각 문자단위로 순회\n",
    "#2. 순회하며 해당 loop의 loop count(index)를 기억해놓아야 한다.\n",
    "#3. 현재 순회중인 문자와 매개변수의 'key'가 같은 값인지 확인\n",
    "#4. 같다면 기억중이던 loop count(index)를 리턴\n",
    "#5. 중간에 리턴없이 순회가 모두 종료된다면(찾지못했다면) -1를 리턴\n",
    "def sequential_search(string, key):\n",
    "    s = list(string)\n",
    "    i = 0\n",
    "    while i <= len(s):\n",
    "#         yield for i in string\n",
    "        i += 1\n",
    "        for key in s:\n",
    "            return i\n",
    "        else : return -1"
   ]
  },
  {
   "cell_type": "code",
   "execution_count": 33,
   "metadata": {},
   "outputs": [
    {
     "name": "stdout",
     "output_type": "stream",
     "text": [
      "1\n"
     ]
    }
   ],
   "source": [
    "result = sequential_search('ABCDE', 'D')\n",
    "print(result)\n",
    "#3"
   ]
  },
  {
   "cell_type": "code",
   "execution_count": 34,
   "metadata": {},
   "outputs": [
    {
     "name": "stdout",
     "output_type": "stream",
     "text": [
      "1\n"
     ]
    }
   ],
   "source": [
    "result = sequential_search('ABCDE', 'F')\n",
    "print(result)\n",
    "#-1"
   ]
  },
  {
   "cell_type": "code",
   "execution_count": 6,
   "metadata": {},
   "outputs": [
    {
     "data": {
      "text/plain": [
       "4"
      ]
     },
     "execution_count": 6,
     "metadata": {},
     "output_type": "execute_result"
    }
   ],
   "source": [
    "sample.index('E')"
   ]
  },
  {
   "cell_type": "code",
   "execution_count": 9,
   "metadata": {},
   "outputs": [],
   "source": [
    "# def range_gen(num):\n",
    "#     i=0\n",
    "#     while i < num:\n",
    "#         yield i\n",
    "#         i+=1"
   ]
  },
  {
   "cell_type": "code",
   "execution_count": 12,
   "metadata": {},
   "outputs": [
    {
     "name": "stdout",
     "output_type": "stream",
     "text": [
      "aldjflaksjdflk\n"
     ]
    }
   ],
   "source": []
  },
  {
   "cell_type": "code",
   "execution_count": 38,
   "metadata": {},
   "outputs": [
    {
     "data": {
      "text/plain": [
       "3"
      ]
     },
     "execution_count": 38,
     "metadata": {},
     "output_type": "execute_result"
    }
   ],
   "source": [
    "sample = 'ABCDE'\n",
    "\n",
    "def sequential_search(string, key):\n",
    "    index = 0\n",
    "    while index < len(sample):\n",
    "        if string[index] == key:\n",
    "            return index\n",
    "        index +=1\n",
    "    return -1\n",
    "\n",
    "sequential_search('ABCDE','D')"
   ]
  },
  {
   "cell_type": "code",
   "execution_count": 39,
   "metadata": {},
   "outputs": [
    {
     "data": {
      "text/plain": [
       "0"
      ]
     },
     "execution_count": 39,
     "metadata": {},
     "output_type": "execute_result"
    }
   ],
   "source": [
    "# 길이가 10인 리스트 정렬\n",
    "sample = [9,1,6,8,4,3,2,0,5,7]\n",
    "# index가 0 인 루프\n",
    "# 가장 작은 값을 찾는다(0)\n",
    "# index0번 요소와 자리를 바꿈.\n",
    "min(sample)\n",
    "#index가 1인 루프\n",
    "# 가장작은값을 인덱스 1번 요소와 자리를 바굼\n",
    "def order()"
   ]
  },
  {
   "cell_type": "code",
   "execution_count": 41,
   "metadata": {
    "scrolled": true
   },
   "outputs": [
    {
     "ename": "SyntaxError",
     "evalue": "invalid syntax (<ipython-input-41-9872bcb65fd8>, line 4)",
     "output_type": "error",
     "traceback": [
      "\u001b[0;36m  File \u001b[0;32m\"<ipython-input-41-9872bcb65fd8>\"\u001b[0;36m, line \u001b[0;32m4\u001b[0m\n\u001b[0;31m    for x in len(sample) - 1):\u001b[0m\n\u001b[0m                            ^\u001b[0m\n\u001b[0;31mSyntaxError\u001b[0m\u001b[0;31m:\u001b[0m invalid syntax\n"
     ]
    }
   ],
   "source": [
    "#for문 작성\n",
    "#매 루프마다 프린트 실행\n",
    "# 총 9번실행해야함\n",
    "for x in len(sample) - 1):\n",
    "    #내부에서 다시 새로운 for-loop를 진행\n",
    "    # (x부터 리스트 끝까지)\n",
    "    # 해당 내부 loop에서의 최소값과 그 index를 기억\n",
    "    #loop가 끝난 후, 최소값을 가진 index 와 x indxddd\n",
    "    print(sample[x:])"
   ]
  },
  {
   "cell_type": "code",
   "execution_count": 57,
   "metadata": {},
   "outputs": [
    {
     "name": "stdout",
     "output_type": "stream",
     "text": [
      "1번째 loop, 현재 리스트 상황: [9, 1, 6, 8, 4, 3, 2, 0, 5, 7]\n",
      "1번째 loop의 최소 index는 7, 값은: 0\n",
      "\n",
      "2번째 loop, 현재 리스트 상황: [9, 0, 6, 8, 4, 3, 2, 1, 5, 7]\n",
      "2번째 loop의 최소 index는 7, 값은: 1\n",
      "\n",
      "3번째 loop, 현재 리스트 상황: [9, 0, 1, 8, 4, 3, 2, 6, 5, 7]\n",
      "3번째 loop의 최소 index는 6, 값은: 2\n",
      "\n",
      "4번째 loop, 현재 리스트 상황: [9, 0, 1, 2, 4, 3, 8, 6, 5, 7]\n",
      "4번째 loop의 최소 index는 5, 값은: 3\n",
      "\n",
      "5번째 loop, 현재 리스트 상황: [9, 0, 1, 2, 3, 4, 8, 6, 5, 7]\n",
      "5번째 loop의 최소 index는 5, 값은: 4\n",
      "\n",
      "6번째 loop, 현재 리스트 상황: [9, 0, 1, 2, 3, 4, 8, 6, 5, 7]\n",
      "6번째 loop의 최소 index는 8, 값은: 5\n",
      "\n",
      "7번째 loop, 현재 리스트 상황: [9, 0, 1, 2, 3, 4, 5, 6, 8, 7]\n",
      "7번째 loop의 최소 index는 7, 값은: 6\n",
      "\n",
      "8번째 loop, 현재 리스트 상황: [9, 0, 1, 2, 3, 4, 5, 6, 8, 7]\n",
      "8번째 loop의 최소 index는 9, 값은: 7\n",
      "\n"
     ]
    }
   ],
   "source": [
    "sample = [9,1,6,8,4,3,2,0,5,7]\n",
    "#for문 작성\n",
    "#매 루프마다 프린트 실행\n",
    "# 총 9번실행해야함\n",
    "for x in range(1,len(sample)-1):\n",
    "    #내부에서 다시 새로운 for-loop를 진행\n",
    "    # (x부터 리스트 끝까지)\n",
    "    # 해당 내부 loop에서의 최소값과 그 index를 기억\n",
    "    #loop가 끝난 후, 최소값을 가진 index 와 x index의 값들을 서로 교환\n",
    "    cur_min_index = x\n",
    "    for y in range(x, len(sample)):\n",
    "        #y: 내부 loop의 index (x부터 리스트 끝까지 순회중인 index)\n",
    "        #만약 저장해 두었던 index에 해당하는 값보다 현제 값이 더 작다면\n",
    "        #cul_min_index값을 현재 index로 대체\n",
    "        if sample[cur_min_index]>sample[y]:\n",
    "            cur_min_index=y\n",
    "    print(f'{x}번째 loop, 현재 리스트 상황: {sample}')\n",
    "    print(f'{x}번째 loop의 최소 index는 {cur_min_index}, 값은: {sample[cur_min_index]}')\n",
    "    sample[cur_min_index], sample[x] = sample[x], sample[cur_min_index]\n",
    "    print()"
   ]
  },
  {
   "cell_type": "code",
   "execution_count": 50,
   "metadata": {},
   "outputs": [
    {
     "name": "stdout",
     "output_type": "stream",
     "text": [
      "[1, 3, 5, 7, 9]\n"
     ]
    }
   ],
   "source": [
    "sample = [9,7,5,3,1]\n",
    "\n",
    "for i in range(1, len(sample)):\n",
    "    for j in range(0, len(sample)-1):\n",
    "        if sample[j] > sample[j+1]:\n",
    "            sample[j+1], sample[j] = sample[j], sample[j+1]\n",
    "print(sample)"
   ]
  },
  {
   "cell_type": "code",
   "execution_count": 51,
   "metadata": {},
   "outputs": [
    {
     "name": "stdout",
     "output_type": "stream",
     "text": [
      "0\n",
      "1\n",
      "2\n",
      "3\n",
      "0\n",
      "1\n",
      "2\n",
      "3\n",
      "0\n",
      "1\n",
      "2\n",
      "3\n",
      "0\n",
      "1\n",
      "2\n",
      "3\n"
     ]
    }
   ],
   "source": [
    "for i in range(1, len(sample)):\n",
    "    for j in range(0, len(sample)-1):\n",
    "        print (j)"
   ]
  },
  {
   "cell_type": "code",
   "execution_count": 53,
   "metadata": {},
   "outputs": [
    {
     "name": "stdout",
     "output_type": "stream",
     "text": [
      "0\n",
      "1\n",
      "2\n",
      "3\n",
      "4\n",
      "1\n",
      "2\n",
      "3\n",
      "4\n",
      "2\n",
      "3\n",
      "4\n",
      "3\n",
      "4\n"
     ]
    }
   ],
   "source": [
    "for x in range(len(sample) - 1):\n",
    "\n",
    "        "
   ]
  },
  {
   "cell_type": "code",
   "execution_count": null,
   "metadata": {},
   "outputs": [],
   "source": []
  }
 ],
 "metadata": {
  "kernelspec": {
   "display_name": "Python 3",
   "language": "python",
   "name": "python3"
  },
  "language_info": {
   "codemirror_mode": {
    "name": "ipython",
    "version": 3
   },
   "file_extension": ".py",
   "mimetype": "text/x-python",
   "name": "python",
   "nbconvert_exporter": "python",
   "pygments_lexer": "ipython3",
   "version": "3.6.6"
  }
 },
 "nbformat": 4,
 "nbformat_minor": 2
}
